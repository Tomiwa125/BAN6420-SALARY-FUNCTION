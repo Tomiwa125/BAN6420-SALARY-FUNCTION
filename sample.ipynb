{
 "cells": [
  {
   "metadata": {},
   "cell_type": "markdown",
   "source": [
    "# This is a sample Jupyter Notebook\n",
    "\n",
    "Below is an example of a code cell. \n",
    "Put your cursor into the cell and press Shift+Enter to execute it and select the next one, or click 'Run Cell' button.\n",
    "\n",
    "Press Double Shift to search everywhere for classes, files, tool windows, actions, and settings.\n",
    "\n",
    "To learn more about Jupyter Notebooks in PyCharm, see [help](https://www.jetbrains.com/help/pycharm/ipython-notebook-support.html).\n",
    "For an overview of PyCharm, go to Help -> Learn IDE features or refer to [our documentation](https://www.jetbrains.com/help/pycharm/getting-started.html)."
   ],
   "id": "8a77807f92f26ee"
  },
  {
   "metadata": {
    "ExecuteTime": {
     "end_time": "2024-09-14T07:13:02.565730Z",
     "start_time": "2024-09-14T07:12:55.186557Z"
    }
   },
   "cell_type": "code",
   "source": [
    "import pandas as pd\n",
    "import os\n",
    "import zipfile\n",
    "\n",
    "# Load the salary data\n",
    "try:\n",
    "    salary_data = pd.read_csv(r'C:\\Users\\Beacon Consulting\\Downloads\\Total.csv', low_memory=False)  # Use raw string for the file path\n",
    "    print(\"Salary data loaded successfully.\")\n",
    "    print(salary_data.head())\n",
    "except FileNotFoundError:\n",
    "    print(\"Error: The salary data file was not found.\")\n",
    "except pd.errors.EmptyDataError:\n",
    "    print(\"Error: The file is empty.\")\n",
    "except Exception as e:\n",
    "    print(f\"An error occurred: {e}\")\n",
    "\n",
    "# Create a function to get employee details\n",
    "def get_employee_details(name):\n",
    "    try:\n",
    "        if 'Name' not in salary_data.columns:\n",
    "            return \"Column 'Name' not found in the DataFrame.\"\n",
    "        \n",
    "        employee_details = salary_data[salary_data['Name'] == name]\n",
    "        if employee_details.empty:\n",
    "            return \"Employee not found.\"\n",
    "        return employee_details\n",
    "    except Exception as e:\n",
    "        return f\"An error occurred: {e}\"\n",
    "\n",
    "# Process the salary data into a dictionary\n",
    "employee_dict = salary_data.set_index('Name').T.to_dict()\n",
    "\n",
    "# Safe function to get employee details with error handling\n",
    "def safe_get_employee_details(name):\n",
    "    try:\n",
    "        if name not in employee_dict:\n",
    "            return \"Employee not found.\"\n",
    "        return employee_dict[name]\n",
    "    except Exception as e:\n",
    "        return f\"An error occurred: {e}\"\n",
    "\n",
    "# Function to export employee details to a CSV file and zip it\n",
    "def export_employee_details(name):\n",
    "    try:\n",
    "        details = safe_get_employee_details(name)\n",
    "        if isinstance(details, str):  # If it returns an error message\n",
    "            return details\n",
    "        else:\n",
    "            # Create a DataFrame\n",
    "            employee_df = pd.DataFrame([details])  # Convert to DataFrame\n",
    "            \n",
    "            # Create a directory for Employee Profile\n",
    "            os.makedirs('Employee Profile', exist_ok=True)\n",
    "            \n",
    "            # Export to CSV\n",
    "            csv_file_path = f'Employee Profile/{name}_details.csv'\n",
    "            employee_df.to_csv(csv_file_path, index=False)\n",
    "            \n",
    "            # Create a zip file\n",
    "            zip_file_path = 'Employee_Profile.zip'\n",
    "            with zipfile.ZipFile(zip_file_path, 'w') as zf:\n",
    "                zf.write(csv_file_path, arcname=os.path.basename(csv_file_path))\n",
    "                \n",
    "            return f\"Employee details for {name} exported and zipped successfully.\"\n",
    "    except Exception as e:\n",
    "        return f\"An error occurred: {e}\"\n",
    "\n",
    "# Example usage of the function\n",
    "employee_name = \"ALBERT PARDINI\"  # Replace with the desired employee name\n",
    "result = export_employee_details(employee_name)\n",
    "print(result)"
   ],
   "id": "7c8ea3602bae17b2",
   "outputs": [
    {
     "name": "stdout",
     "output_type": "stream",
     "text": [
      "Salary data loaded successfully.\n",
      "                Name                                        JobTitle  \\\n",
      "0     NATHANIEL FORD  GENERAL MANAGER-METROPOLITAN TRANSIT AUTHORITY   \n",
      "1       GARY JIMENEZ                 CAPTAIN III (POLICE DEPARTMENT)   \n",
      "2     ALBERT PARDINI                 CAPTAIN III (POLICE DEPARTMENT)   \n",
      "3  CHRISTOPHER CHONG            WIRE ROPE CABLE MAINTENANCE MECHANIC   \n",
      "4    PATRICK GARDNER    DEPUTY CHIEF OF DEPARTMENT,(FIRE DEPARTMENT)   \n",
      "\n",
      "     BasePay OvertimePay   OtherPay      Benefits   TotalPay  \\\n",
      "0  167411.18           0  400184.25  Not Provided  567595.43   \n",
      "1  155966.02   245131.88  137811.38  Not Provided  538909.28   \n",
      "2  212739.13   106088.18    16452.6  Not Provided  335279.91   \n",
      "3      77916    56120.71   198306.9  Not Provided  332343.61   \n",
      "4   134401.6        9737  182234.59  Not Provided  326373.19   \n",
      "\n",
      "   TotalPayBenefits  Year  \n",
      "0         567595.43  2011  \n",
      "1         538909.28  2011  \n",
      "2         335279.91  2011  \n",
      "3         332343.61  2011  \n",
      "4         326373.19  2011  \n"
     ]
    },
    {
     "name": "stderr",
     "output_type": "stream",
     "text": [
      "C:\\Users\\Beacon Consulting\\AppData\\Local\\Temp\\ipykernel_31772\\1382948541.py:31: UserWarning: DataFrame columns are not unique, some columns will be omitted.\n",
      "  employee_dict = salary_data.set_index('Name').T.to_dict()\n"
     ]
    },
    {
     "name": "stdout",
     "output_type": "stream",
     "text": [
      "Employee details for ALBERT PARDINI exported and zipped successfully.\n"
     ]
    }
   ],
   "execution_count": 37
  },
  {
   "metadata": {},
   "cell_type": "code",
   "outputs": [],
   "execution_count": null,
   "source": "",
   "id": "4b4b031fb1d1639f"
  }
 ],
 "metadata": {
  "kernelspec": {
   "display_name": "Python 3",
   "language": "python",
   "name": "python3"
  },
  "language_info": {
   "codemirror_mode": {
    "name": "ipython",
    "version": 2
   },
   "file_extension": ".py",
   "mimetype": "text/x-python",
   "name": "python",
   "nbconvert_exporter": "python",
   "pygments_lexer": "ipython2",
   "version": "2.7.6"
  }
 },
 "nbformat": 4,
 "nbformat_minor": 5
}
